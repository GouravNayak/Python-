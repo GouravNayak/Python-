{
  "nbformat": 4,
  "nbformat_minor": 0,
  "metadata": {
    "colab": {
      "name": "Python_basic.ipynb",
      "provenance": [],
      "collapsed_sections": [],
      "authorship_tag": "ABX9TyNBgBBmJj6JGfVPQNghLDiO",
      "include_colab_link": true
    },
    "kernelspec": {
      "name": "python3",
      "display_name": "Python 3"
    }
  },
  "cells": [
    {
      "cell_type": "markdown",
      "metadata": {
        "id": "view-in-github",
        "colab_type": "text"
      },
      "source": [
        "<a href=\"https://colab.research.google.com/github/GouravNayak/Python-Basics/blob/master/Basics%20in%20Loop%20and%20conditions/Python_basic-1.ipynb\" target=\"_parent\"><img src=\"https://colab.research.google.com/assets/colab-badge.svg\" alt=\"Open In Colab\"/></a>"
      ]
    },
    {
      "cell_type": "markdown",
      "metadata": {
        "id": "1F3y8xvZFcgk",
        "colab_type": "text"
      },
      "source": [
        "**Write a program in python to find the greatest common divisor of user-defined two numbers.**\n",
        "\n",
        "\n",
        "1.   function with two numbers as argument\n",
        "2.   Check if numbers are valid\n",
        "3.   divide the large number with the small number until the remainder is 0. GCD is the divisor in this case.\n",
        "\n"
      ]
    },
    {
      "cell_type": "code",
      "metadata": {
        "id": "L6iN9_F1FRif",
        "colab_type": "code",
        "colab": {
          "base_uri": "https://localhost:8080/",
          "height": 84
        },
        "outputId": "fb316ddd-37d8-4711-c5e0-98e8bbd3f232"
      },
      "source": [
        "def gcd(number1, number2):\n",
        "  dividend = number1\n",
        "  divisor = number2\n",
        "  remainder = 1\n",
        "  \n",
        "  if (number1 and number2) > 0:\n",
        "    # find dividend and divisor\n",
        "    if number1>=number2:\n",
        "      # print('Divisor is 1st arg: '+str(number2))\n",
        "      divisor = number2\n",
        "      dividend = number1\n",
        "    elif number2>number1:\n",
        "      # print('Divisor is 2nd arg: '+str(number1))\n",
        "      divisor = number1\n",
        "      dividend = number2\n",
        "    else:\n",
        "      print('zero')\n",
        "\n",
        "    remainder = divisor\n",
        "    # divide until remainder is 0\n",
        "    while remainder != 0:\n",
        "      remainder = dividend%divisor\n",
        "      print(remainder)\n",
        "      if remainder < divisor:\n",
        "        dividend = divisor\n",
        "        divisor = remainder   \n",
        "         \n",
        "    print('GCD is: '+str(dividend))\n",
        "\n",
        "  elif (number1==0) or (number2 == 0):\n",
        "    if number1==0:\n",
        "      print('gcd is: '+str(number1))\n",
        "    else:\n",
        "      print('gcd is: '+str(number2))\n",
        "  else:\n",
        "    print('negative numbers')\n",
        "\n",
        "gcd(180, 75)"
      ],
      "execution_count": null,
      "outputs": [
        {
          "output_type": "stream",
          "text": [
            "30\n",
            "15\n",
            "0\n",
            "GCD is: 15\n"
          ],
          "name": "stdout"
        }
      ]
    },
    {
      "cell_type": "markdown",
      "metadata": {
        "id": "Tno65LHA88pA",
        "colab_type": "text"
      },
      "source": [
        "**L.C.M of two numbers**\n",
        "\n",
        "Least Common Multiple (LCM) of a group of numbers is the smallest number that is a multiple of all the numbers."
      ]
    },
    {
      "cell_type": "code",
      "metadata": {
        "id": "_CpdNX_R9A7Q",
        "colab_type": "code",
        "colab": {
          "base_uri": "https://localhost:8080/",
          "height": 50
        },
        "outputId": "4b66e384-2232-4bb7-d4ad-6e3d0f1d739a"
      },
      "source": [
        "def compute_lcm(num_1, num_2):\n",
        "  # choose the greater number\n",
        "  if num_1 > num_2:\n",
        "    lcm = num_1\n",
        "  else:\n",
        "    lcm = num_2\n",
        "\n",
        "  while(True):\n",
        "    if((lcm % num_1 == 0) and (lcm % num_2 == 0)):\n",
        "      print('LCM found')\n",
        "      break\n",
        "    lcm = lcm + 1\n",
        "\n",
        "  return lcm\n",
        "\n",
        "print(\"The L.C.M. is\", compute_lcm(54, 24))"
      ],
      "execution_count": null,
      "outputs": [
        {
          "output_type": "stream",
          "text": [
            "LCM found\n",
            "The L.C.M. is 216\n"
          ],
          "name": "stdout"
        }
      ]
    },
    {
      "cell_type": "markdown",
      "metadata": {
        "id": "yAvhSwnsVnX3",
        "colab_type": "text"
      },
      "source": [
        "**Write a program in python to take number of rows as input and display pattern left justified and in decreasing order.**"
      ]
    },
    {
      "cell_type": "code",
      "metadata": {
        "id": "0RR10yQVVyMG",
        "colab_type": "code",
        "colab": {
          "base_uri": "https://localhost:8080/",
          "height": 353
        },
        "outputId": "826da991-9843-4db4-8f7f-f8d5505ae13a"
      },
      "source": [
        "def left_justified_number_pattern(num):\n",
        "  # print('row starts from: '+str(num))\n",
        "  while num!=0:\n",
        "    row_list=[]\n",
        "    start_num = num\n",
        "    while start_num!=0:\n",
        "      #print(start_num)\n",
        "      start_num = start_num-1\n",
        "      row_list.append(start_num)\n",
        "    # print the elements of list\n",
        "    for i in row_list:\n",
        "      print(i, end=\" \")\n",
        "    # reset for next row\n",
        "    num = num-1\n",
        "    # new line\n",
        "    print('\\n')\n",
        "\n",
        "left_justified_number_pattern(10)"
      ],
      "execution_count": null,
      "outputs": [
        {
          "output_type": "stream",
          "text": [
            "9 8 7 6 5 4 3 2 1 0 \n",
            "\n",
            "8 7 6 5 4 3 2 1 0 \n",
            "\n",
            "7 6 5 4 3 2 1 0 \n",
            "\n",
            "6 5 4 3 2 1 0 \n",
            "\n",
            "5 4 3 2 1 0 \n",
            "\n",
            "4 3 2 1 0 \n",
            "\n",
            "3 2 1 0 \n",
            "\n",
            "2 1 0 \n",
            "\n",
            "1 0 \n",
            "\n",
            "0 \n",
            "\n"
          ],
          "name": "stdout"
        }
      ]
    },
    {
      "cell_type": "markdown",
      "metadata": {
        "id": "qq2jfuJxXqG3",
        "colab_type": "text"
      },
      "source": [
        "**Write a program to find sum of first and last digit of a number**\n",
        "\n",
        "\n",
        "1.   Checking the count of digits\n",
        "2.   Take the absolute number. algorithm will work for negative inputs as well.\n",
        "3.   Can be altered to work with decimal numbers as well.\n",
        "\n"
      ]
    },
    {
      "cell_type": "code",
      "metadata": {
        "id": "Z9wmudjLX-Nw",
        "colab_type": "code",
        "colab": {
          "base_uri": "https://localhost:8080/",
          "height": 50
        },
        "outputId": "e816215c-9355-4483-ceb1-fd80516c5eea"
      },
      "source": [
        "def sum_of_extreme_num(num):\n",
        "  print('Number is: '+str(num))\n",
        "  digit_count = 0\n",
        "  num = abs(num)\n",
        "  temp_num = num\n",
        "  if num>0 and num<1:\n",
        "    first_num = 0\n",
        "    last_num = 0\n",
        "  else:\n",
        "    while int(temp_num)>0:\n",
        "      temp_num = temp_num/10\n",
        "      digit_count = digit_count+1\n",
        "    print('No of digits: '+str(digit_count))  \n",
        "\n",
        "    first_num = int(str(num)[0:1])\n",
        "    if digit_count == 1:\n",
        "      print('Only 1 digit is detected.')\n",
        "      last_num = 0\n",
        "    elif digit_count == 0:\n",
        "      first_num = 0\n",
        "      last_num = 0\n",
        "    else:\n",
        "      last_num = int(str(num)[digit_count-1:digit_count])\n",
        "\n",
        "  num_sum = first_num + last_num\n",
        "\n",
        "  print('Sum of first and last digit is: '+str(num_sum))\n",
        "\n",
        "sum_of_extreme_num(0.009)"
      ],
      "execution_count": null,
      "outputs": [
        {
          "output_type": "stream",
          "text": [
            "Number is: 0.009\n",
            "Sum of first and last digit is: 0\n"
          ],
          "name": "stdout"
        }
      ]
    },
    {
      "cell_type": "markdown",
      "metadata": {
        "id": "-LTv2KrrdbEF",
        "colab_type": "text"
      },
      "source": [
        "**Write code for power of any number**"
      ]
    },
    {
      "cell_type": "code",
      "metadata": {
        "id": "nWjybgEsdh7V",
        "colab_type": "code",
        "colab": {
          "base_uri": "https://localhost:8080/",
          "height": 34
        },
        "outputId": "25096dc8-61bf-4fef-c433-a0ca41686e61"
      },
      "source": [
        "def power_num(num, power):\n",
        "  prod = 1\n",
        "  for i in range(1, power+1):\n",
        "    prod = prod*num\n",
        "  print('Power is: '+str(prod))\n",
        "\n",
        "power_num(3,3)"
      ],
      "execution_count": null,
      "outputs": [
        {
          "output_type": "stream",
          "text": [
            "Power is: 27\n"
          ],
          "name": "stdout"
        }
      ]
    },
    {
      "cell_type": "markdown",
      "metadata": {
        "id": "2_JkOsR4iomK",
        "colab_type": "text"
      },
      "source": [
        "**Prime Number**\n",
        "\n",
        "A number is a prime if it is divisible by any number other than 1 and itself"
      ]
    },
    {
      "cell_type": "code",
      "metadata": {
        "id": "HIiszVKmirKq",
        "colab_type": "code",
        "colab": {
          "base_uri": "https://localhost:8080/",
          "height": 34
        },
        "outputId": "cfd110ea-23cf-416c-c136-51f70342d812"
      },
      "source": [
        "def check_num_prime(num):\n",
        "  is_num_prime = False\n",
        "  if num > 1:\n",
        "    for i in range(2,num):\n",
        "      if num%i==0:\n",
        "        is_num_prime = True\n",
        "\n",
        "    if is_num_prime:\n",
        "      print(str(num)+' is not prime.')\n",
        "    else:\n",
        "      print(str(num)+' is prime.')\n",
        "  else:\n",
        "    if num==1:\n",
        "      print(str(num) + str(' is neither a prime nor a composite number'))\n",
        "    else:\n",
        "      print(str(num) + str(' is an invalid input. Please enter a number greater than 1.'))\n",
        "\n",
        "check_num_prime(-1)"
      ],
      "execution_count": null,
      "outputs": [
        {
          "output_type": "stream",
          "text": [
            "-1 is an invalid input. Please enter a number greater than 1.\n"
          ],
          "name": "stdout"
        }
      ]
    },
    {
      "cell_type": "markdown",
      "metadata": {
        "id": "H4C1VxRGkYpz",
        "colab_type": "text"
      },
      "source": [
        "**List of credentials**\n",
        "A dictionary for the particular problem. I prefer json because you can attach multiple information to a user like account status, phone number or security question and answers."
      ]
    },
    {
      "cell_type": "code",
      "metadata": {
        "id": "Z6RF37C7kbmA",
        "colab_type": "code",
        "colab": {}
      },
      "source": [
        "user_credentials_dict={} "
      ],
      "execution_count": null,
      "outputs": []
    },
    {
      "cell_type": "markdown",
      "metadata": {
        "id": "QdN40G3gvxqE",
        "colab_type": "text"
      },
      "source": [
        "**Register via user input Email and pwd**\n",
        "\n",
        "\n",
        "1.   Email: Regex check can be applied to find valid email ID\n",
        "2.   password and Alternate pwd: must be same\n",
        "\n",
        "Note: Run it multiple times in the same session to store multiple Id's\n",
        "\n"
      ]
    },
    {
      "cell_type": "code",
      "metadata": {
        "id": "-MVcp5iVv4w3",
        "colab_type": "code",
        "colab": {
          "base_uri": "https://localhost:8080/",
          "height": 101
        },
        "outputId": "d64866ed-172b-4d8b-cca7-da21d1235e6b"
      },
      "source": [
        "email_id = input(\"Enter your Email Id: \") \n",
        "pwd_1 = input(\"Enter your password: \")\n",
        "pwd_2 = input(\"Enter your password again: \")\n",
        "\n",
        "if pwd_1 != pwd_2:\n",
        "  print('Incorrect passwords')\n",
        "else:\n",
        "  print('Password accepted')\n",
        "  user_credentials_dict[email_id] = pwd_1\n",
        "\n",
        "print('Account Created')"
      ],
      "execution_count": null,
      "outputs": [
        {
          "output_type": "stream",
          "text": [
            "Enter your Email Id: as2\n",
            "Enter your password: ass2\n",
            "Enter your password again: ass2\n",
            "Password accepted\n",
            "Account Created\n"
          ],
          "name": "stdout"
        }
      ]
    },
    {
      "cell_type": "markdown",
      "metadata": {
        "id": "aNUCmiFp2vWK",
        "colab_type": "text"
      },
      "source": [
        "**Check user_id and passwords**"
      ]
    },
    {
      "cell_type": "code",
      "metadata": {
        "id": "g4vqJwae2uwF",
        "colab_type": "code",
        "colab": {
          "base_uri": "https://localhost:8080/",
          "height": 34
        },
        "outputId": "613b654a-853e-427e-a313-7f60eb2d183d"
      },
      "source": [
        "print(user_credentials_dict)"
      ],
      "execution_count": null,
      "outputs": [
        {
          "output_type": "stream",
          "text": [
            "{'as': 'ass', 'as1': 'ass1', 'as2': 'ass2'}\n"
          ],
          "name": "stdout"
        }
      ]
    },
    {
      "cell_type": "markdown",
      "metadata": {
        "id": "Vnr6Cf0_x5Aw",
        "colab_type": "text"
      },
      "source": [
        "**Sign_in via user-id and pwd**\n",
        "\n",
        "1.   Checks if the entered email ID is in the dictionary key. Again, a a quick check on email regex will help.\n",
        "2.   Check the entered password for the same Id. If incorrect, gives 3 chances to user.\n",
        "\n"
      ]
    },
    {
      "cell_type": "code",
      "metadata": {
        "id": "31_lUc4fyFLS",
        "colab_type": "code",
        "colab": {
          "base_uri": "https://localhost:8080/",
          "height": 134
        },
        "outputId": "91b66410-032c-41aa-f5d8-4db6127f9c5a"
      },
      "source": [
        "sign_in_email_id = input(\"Enter your Email Id to log in: \")\n",
        "\n",
        "if sign_in_email_id in user_credentials_dict:\n",
        "  \n",
        "  sign_in_pwd =  input(\"Enter your password: \")\n",
        "    \n",
        "  if sign_in_pwd != user_credentials_dict[sign_in_email_id]:\n",
        "    for i in range(0, 3):\n",
        "      print('Incorrect password. Please try Again. Attempt No. ' +str(i+1)+str('/3'))\n",
        "      sign_in_pwd =  input(\"Enter your password: \")\n",
        "      if sign_in_pwd == user_credentials_dict[sign_in_email_id]:\n",
        "        print('Access Granted')\n",
        "        break\n",
        "      if i==2:\n",
        "        # you can write a logic here to change the status of account locked.\n",
        "        print('Account Locked!!!')\n",
        "else:\n",
        "  print('Invalid Email. Unable to log in')"
      ],
      "execution_count": null,
      "outputs": [
        {
          "output_type": "stream",
          "text": [
            "Enter your Email Id to log in: as1\n",
            "Enter your password: ass\n",
            "Incorrect password. Please try Again. Attempt No. 1/3\n",
            "Enter your password: ass2\n",
            "Incorrect password. Please try Again. Attempt No. 2/3\n",
            "Enter your password: ass1\n",
            "Access Granted\n"
          ],
          "name": "stdout"
        }
      ]
    }
  ]
}